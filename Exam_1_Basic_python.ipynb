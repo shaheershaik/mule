{
 "cells": [
  {
   "cell_type": "markdown",
   "id": "5af65534-120a-4fb1-864a-110dace4ebb3",
   "metadata": {},
   "source": [
    "# 1. Write a program for all arithmetic operations using eval function.\n"
   ]
  },
  {
   "cell_type": "code",
   "execution_count": 2,
   "id": "a4584e07-aa9f-4d2d-903b-b34a3902ff1d",
   "metadata": {},
   "outputs": [
    {
     "name": "stdin",
     "output_type": "stream",
     "text": [
      "enter number 1:  10\n",
      "enetr number 2: 20\n"
     ]
    },
    {
     "name": "stdout",
     "output_type": "stream",
     "text": [
      "The addition of 10 and 20 is :30\n",
      "The subtraction of 10 and 20 is :-10\n",
      "The multiplication of 10 and 20 is :200\n",
      "The division of 10 and 20 is :0.5\n"
     ]
    }
   ],
   "source": [
    "# Taking two numbers as input using eval\n",
    "num1=eval(input(\"enter number 1: \"))\n",
    "num2=eval(input(\"enetr number 2:\"))\n",
    "# \n",
    "add=num1+num2\n",
    "print(f\"The addition of {num1} and {num2} is :{add}\")\n",
    "sub=num1-num2\n",
    "print(f\"The subtraction of {num1} and {num2} is :{sub}\")\n",
    "mul=num1*num2\n",
    "print(f\"The multiplication of {num1} and {num2} is :{mul}\")\n",
    "div=num1/num2\n",
    "print(f\"The division of {num1} and {num2} is :{div}\")"
   ]
  },
  {
   "cell_type": "markdown",
   "id": "1113fa41-45a6-4eee-be09-1148908b1762",
   "metadata": {},
   "source": [
    "# 2. Generate random numbers from 1 to 100 with a step of 10."
   ]
  },
  {
   "cell_type": "code",
   "execution_count": 29,
   "id": "9b7cfa70-ca45-4002-8779-cdd70a7b4ee8",
   "metadata": {},
   "outputs": [
    {
     "name": "stdout",
     "output_type": "stream",
     "text": [
      "The random number is:  24\n",
      "Random number from 1 to 100 with a step of 10: 240\n"
     ]
    }
   ],
   "source": [
    "import random\n",
    "random_number=random.randint(1, 100)\n",
    "step_of=random_number*10\n",
    "print(\"The random number is: \", random_number)\n",
    "print(\"Random number from 1 to 100 with a step of 10:\", step_of)"
   ]
  },
  {
   "cell_type": "markdown",
   "id": "501f515c-425e-4947-8055-a08a220af613",
   "metadata": {},
   "source": [
    "# 3. Explain slicing and indexing with examples"
   ]
  },
  {
   "cell_type": "code",
   "execution_count": null,
   "id": "385f725d-3826-477c-b7be-30cecb4a9e03",
   "metadata": {},
   "outputs": [],
   "source": []
  },
  {
   "cell_type": "markdown",
   "id": "d6cef5e7-44ab-48bf-b46e-eb935db59136",
   "metadata": {},
   "source": [
    "# 4. How to round to two decimal places for a floating value"
   ]
  },
  {
   "cell_type": "code",
   "execution_count": 32,
   "id": "01eaa66b-276f-4a98-a671-19cad5070b03",
   "metadata": {},
   "outputs": [
    {
     "name": "stdout",
     "output_type": "stream",
     "text": [
      "Original value: 3.141592653589793\n",
      "Rounded value to two decimal places: 3.14\n"
     ]
    }
   ],
   "source": [
    "import math\n",
    "floating_value=math.pi\n",
    "print(\"Original value:\",floating_value)\n",
    "rounded_value=round(floating_value,2)\n",
    "print(\"Rounded value to two decimal places:\", rounded_value)"
   ]
  },
  {
   "cell_type": "markdown",
   "id": "59a52fb9-9f1d-4103-9cf1-4039b5f1717e",
   "metadata": {},
   "source": [
    "# 5. Explain type casting with fundamental datatypes with example."
   ]
  },
  {
   "cell_type": "code",
   "execution_count": 43,
   "id": "a2f4d7fb-16d7-4a68-9a89-32c37a2fc8b5",
   "metadata": {},
   "outputs": [
    {
     "name": "stdout",
     "output_type": "stream",
     "text": [
      "10.0\n"
     ]
    }
   ],
   "source": [
    "# converting one data type to another data type is called type casting\n",
    "# Integer to other data types\n",
    "\n",
    "# 1 Integer to float\n",
    "num=10   # 10 is int value\n",
    "float_num=float(num)  # 10 is converted to float value 10.0\n",
    "print(float_num)"
   ]
  },
  {
   "cell_type": "code",
   "execution_count": 49,
   "id": "e0018740-9507-46cb-97d4-9d54f2c14615",
   "metadata": {},
   "outputs": [
    {
     "data": {
      "text/plain": [
       "'10'"
      ]
     },
     "execution_count": 49,
     "metadata": {},
     "output_type": "execute_result"
    }
   ],
   "source": [
    "# 2 Integer to String\n",
    "num=10\n",
    "str_num=str(num)\n",
    "str_num"
   ]
  },
  {
   "cell_type": "code",
   "execution_count": 46,
   "id": "22fd7d66-e5e5-4422-8514-0620acd9c2aa",
   "metadata": {},
   "outputs": [
    {
     "data": {
      "text/plain": [
       "True"
      ]
     },
     "execution_count": 46,
     "metadata": {},
     "output_type": "execute_result"
    }
   ],
   "source": [
    "# 3 Integer to Boolean\n",
    "num=10\n",
    "bool(num)"
   ]
  },
  {
   "cell_type": "code",
   "execution_count": 50,
   "id": "2f3ae8f4-16e3-4e1f-a3e3-bec6a94f5dad",
   "metadata": {},
   "outputs": [
    {
     "data": {
      "text/plain": [
       "False"
      ]
     },
     "execution_count": 50,
     "metadata": {},
     "output_type": "execute_result"
    }
   ],
   "source": [
    "num=0\n",
    "bool(num)"
   ]
  },
  {
   "cell_type": "code",
   "execution_count": 59,
   "id": "b29c63c5-bf10-4c6f-92fe-1160d7f1e35f",
   "metadata": {},
   "outputs": [
    {
     "data": {
      "text/plain": [
       "10"
      ]
     },
     "execution_count": 59,
     "metadata": {},
     "output_type": "execute_result"
    }
   ],
   "source": [
    "# 4 String to Integer\n",
    "str_num=\"10\"\n",
    "int_num=int(str_num) # converting \"10\" string value to 10 integer value\n",
    "int_num"
   ]
  },
  {
   "cell_type": "code",
   "execution_count": 61,
   "id": "f4c0a12a-0a63-469d-9968-9967a11a0adc",
   "metadata": {},
   "outputs": [
    {
     "data": {
      "text/plain": [
       "10.1"
      ]
     },
     "execution_count": 61,
     "metadata": {},
     "output_type": "execute_result"
    }
   ],
   "source": [
    "# 5 String to Float\n",
    "str_num=\"10.10\"\n",
    "float_num=float(str_num)  # converting \"10.10\" string value to 10.1 float value\n",
    "float_num"
   ]
  },
  {
   "cell_type": "code",
   "execution_count": 62,
   "id": "f17c7321-c154-4ed1-af46-3b7bf1b9f846",
   "metadata": {},
   "outputs": [
    {
     "data": {
      "text/plain": [
       "True"
      ]
     },
     "execution_count": 62,
     "metadata": {},
     "output_type": "execute_result"
    }
   ],
   "source": [
    "# 6 String to Boolean\n",
    "str_name=\"shaheer\"\n",
    "bool_name=bool(str_name)\n",
    "bool_name"
   ]
  },
  {
   "cell_type": "code",
   "execution_count": 63,
   "id": "f39bf4a8-c4cb-4a4e-ac4f-8fbff3d9483e",
   "metadata": {},
   "outputs": [
    {
     "data": {
      "text/plain": [
       "False"
      ]
     },
     "execution_count": 63,
     "metadata": {},
     "output_type": "execute_result"
    }
   ],
   "source": [
    "str_name=\"\"\n",
    "bool_name=bool(str_name)\n",
    "bool_name"
   ]
  },
  {
   "cell_type": "code",
   "execution_count": 66,
   "id": "9f828a4c-6f89-42c8-90b2-ff2afef60a78",
   "metadata": {},
   "outputs": [
    {
     "data": {
      "text/plain": [
       "3"
      ]
     },
     "execution_count": 66,
     "metadata": {},
     "output_type": "execute_result"
    }
   ],
   "source": [
    "# 7 float to Integer\n",
    "float_num=3.14\n",
    "int_num=int(float_num)\n",
    "int_num"
   ]
  },
  {
   "cell_type": "code",
   "execution_count": 68,
   "id": "dd4e278b-6cfa-46fb-a0c4-b969af15fbdc",
   "metadata": {},
   "outputs": [
    {
     "data": {
      "text/plain": [
       "'3.14'"
      ]
     },
     "execution_count": 68,
     "metadata": {},
     "output_type": "execute_result"
    }
   ],
   "source": [
    "# 8 float to String\n",
    "float_num=3.14\n",
    "str_num=str(float_num)\n",
    "str_num"
   ]
  },
  {
   "cell_type": "code",
   "execution_count": 69,
   "id": "c8fb79aa-938a-420a-8352-cb1d88bae1fb",
   "metadata": {},
   "outputs": [
    {
     "data": {
      "text/plain": [
       "True"
      ]
     },
     "execution_count": 69,
     "metadata": {},
     "output_type": "execute_result"
    }
   ],
   "source": [
    "# 9 float to boolean\n",
    "float_num=3.14\n",
    "bool_num=bool(float_num)\n",
    "bool_num"
   ]
  },
  {
   "cell_type": "code",
   "execution_count": 70,
   "id": "f3162f9d-a02d-416c-ac4e-844a0e17b2b3",
   "metadata": {},
   "outputs": [
    {
     "data": {
      "text/plain": [
       "False"
      ]
     },
     "execution_count": 70,
     "metadata": {},
     "output_type": "execute_result"
    }
   ],
   "source": [
    "float_num=0.0\n",
    "bool_num=bool(float_num)\n",
    "bool_num"
   ]
  },
  {
   "cell_type": "code",
   "execution_count": null,
   "id": "edd173cd-7c7f-4d09-876f-ec9c00823c28",
   "metadata": {},
   "outputs": [],
   "source": []
  }
 ],
 "metadata": {
  "kernelspec": {
   "display_name": "Python 3 (ipykernel)",
   "language": "python",
   "name": "python3"
  },
  "language_info": {
   "codemirror_mode": {
    "name": "ipython",
    "version": 3
   },
   "file_extension": ".py",
   "mimetype": "text/x-python",
   "name": "python",
   "nbconvert_exporter": "python",
   "pygments_lexer": "ipython3",
   "version": "3.11.7"
  }
 },
 "nbformat": 4,
 "nbformat_minor": 5
}
