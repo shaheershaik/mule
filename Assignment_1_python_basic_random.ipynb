{
 "cells": [
  {
   "cell_type": "markdown",
   "id": "155b45b8-e8d3-4a44-9e56-790a50ed1761",
   "metadata": {},
   "source": [
    "# 1. Ask the user to enter a number. Print out the square of the number"
   ]
  },
  {
   "cell_type": "code",
   "execution_count": 27,
   "id": "56c1b7ea-9079-47ea-a9b4-7cc87ca0c1b5",
   "metadata": {},
   "outputs": [
    {
     "name": "stdout",
     "output_type": "stream",
     "text": [
      "the random number is : 2\n",
      "the square of the number  2 is:4\n"
     ]
    }
   ],
   "source": [
    "import random\n",
    "number=random.randint(1,10)\n",
    "print(f\"the random number is : {number}\")\n",
    "square=number*number\n",
    "print(f\"the square of the number  {number} is:{square}\")"
   ]
  },
  {
   "cell_type": "markdown",
   "id": "c43d8ac4-1303-4d7c-9ce2-e259d888ce6b",
   "metadata": {},
   "source": [
    "# 2. Ask the user to enter a number x. print\r",
    "# \n",
    "out x, 2x, 3x, 4x, and 5x, each separated# \r\n",
    "by three dashes\r",
    "es\r"
   ]
  },
  {
   "cell_type": "code",
   "execution_count": 26,
   "id": "4fc51582-4e8c-45f3-b90f-b17752d417d0",
   "metadata": {},
   "outputs": [
    {
     "name": "stdout",
     "output_type": "stream",
     "text": [
      "the random number is : 10\n",
      "10---20---30---40---50\n"
     ]
    }
   ],
   "source": [
    "import random\n",
    "number=random.randint(1,10)\n",
    "print(f\"the random number is : {number}\")\n",
    "print(number,2*number,3*number,4*number,5*number,sep='---')"
   ]
  },
  {
   "cell_type": "markdown",
   "id": "4e22b10f-1b91-4ba1-9847-861af370bb5d",
   "metadata": {},
   "source": [
    "# 3. Write a program that asks the user for\n",
    "# a weight in kilograms andconverts it to pounds."
   ]
  },
  {
   "cell_type": "code",
   "execution_count": 33,
   "id": "3cf21d4f-7b7e-41c7-bbd0-493227ab218f",
   "metadata": {},
   "outputs": [
    {
     "name": "stdout",
     "output_type": "stream",
     "text": [
      "The random weight is : 28\n",
      "the kilograms 28 convenrted into pounds 61.60000000000001\n"
     ]
    }
   ],
   "source": [
    "import random\n",
    "weight_kgs=random.randint(1,100)\n",
    "print(f\"The random weight is : {weight_kgs}\")\n",
    "pounds=weight_kgs*2.2\n",
    "print(f\"the kilograms {weight_kgs} convenrted into pounds {pounds}\")"
   ]
  },
  {
   "cell_type": "markdown",
   "id": "177ea4df-588f-45ee-a3e6-358600f0fdd2",
   "metadata": {},
   "source": [
    "# 4. Write a program that asks the user to\n",
    "# enter three numbers (use three separate\n",
    "# input statements).Create variables called\n",
    "# total and average that hold the sum and\n",
    "# average of the three numbers and print\n",
    "# out the values of total and average."
   ]
  },
  {
   "cell_type": "code",
   "execution_count": 37,
   "id": "5ef38e87-0e28-48b5-800e-da39cfaaeabe",
   "metadata": {},
   "outputs": [
    {
     "name": "stdout",
     "output_type": "stream",
     "text": [
      "num1 is: 3, num2 is: 24 and num3 is: 44\n",
      "Total of 3 numbers is: 71\n",
      "average of 3 numbers is: 23.666666666666668\n"
     ]
    }
   ],
   "source": [
    "import random\n",
    "num1=random.randint(1,10)\n",
    "num2=random.randint(20,30)\n",
    "num3=random.randint(40,50)\n",
    "total=num1+num2+num3\n",
    "average=total/3\n",
    "print(f\"num1 is: {num1}, num2 is: {num2} and num3 is: {num3}\")\n",
    "print(f\"Total of 3 numbers is: {total}\")\n",
    "print(f\"average of 3 numbers is: {average}\")"
   ]
  },
  {
   "cell_type": "markdown",
   "id": "275150bd-7da2-4f91-b725-8e67c57de2f5",
   "metadata": {},
   "source": [
    "# 5. A lot of cell phones have tip\n",
    "# calculators. Write one. Ask the user for\n",
    "# the price of the meal and the percent tip\n",
    "# they want to leave.\n",
    "# Then print both the tip amount and the\n",
    "# total bill with the tip included.\n"
   ]
  },
  {
   "cell_type": "code",
   "execution_count": 42,
   "id": "d5736640-3b15-4788-8898-873cfc253841",
   "metadata": {},
   "outputs": [
    {
     "name": "stdout",
     "output_type": "stream",
     "text": [
      "the meal price is : 1983\n",
      "the tip percent is: 11\n",
      "tip amount is : 218.13\n",
      "The total bill with tip is: 2201.13\n"
     ]
    }
   ],
   "source": [
    "import random\n",
    "meal_price=random.randint(1000,2000)\n",
    "print(f\"the meal price is : {meal_price}\")\n",
    "tip_percent=random.randint(10,20)\n",
    "print(f\"the tip percent is: {tip_percent}\")\n",
    "tip_amount=meal_price*(tip_percent/100)\n",
    "print(f\"tip amount is : {tip_amount}\")\n",
    "total_bill=meal_price+tip_amount\n",
    "print(f\"The total bill with tip is: {total_bill}\")"
   ]
  },
  {
   "cell_type": "markdown",
   "id": "c52b4592-a3e5-4f6f-b893-8595947688bb",
   "metadata": {},
   "source": [
    "# 6. wap ask the user enter the 2 numbers\n",
    "#  find the subtraction,addition,\n",
    "#  multiplication and division\n"
   ]
  },
  {
   "cell_type": "code",
   "execution_count": 47,
   "id": "e5837d6c-c9e1-46f9-aa74-175dbc7dabf8",
   "metadata": {},
   "outputs": [
    {
     "name": "stdout",
     "output_type": "stream",
     "text": [
      "the random values of num1 is : 8 and num2 is : 12\n",
      "the subtraction of num1 and num2 is: -4\n",
      "The addition of num1 and num2 is: 20\n",
      "The multiplication of num1 and num2 is : 96\n",
      "The division of num1 and num2 is : 0.6666666666666666\n"
     ]
    }
   ],
   "source": [
    "import random\n",
    "num1=random.randint(1,10)\n",
    "num2=random.randint(11,20)\n",
    "subtraction=num1-num2\n",
    "addition=num1+num2\n",
    "multiplication=num1*num2\n",
    "division=num1/num2\n",
    "print(f\"the random values of num1 is : {num1} and num2 is : {num2}\")\n",
    "print(f\"the subtraction of num1 and num2 is: {subtraction}\")\n",
    "print(f\"The addition of num1 and num2 is: {addition}\")\n",
    "print(f\"The multiplication of num1 and num2 is : {multiplication}\")\n",
    "print(f\"The division of num1 and num2 is : {division}\")\n"
   ]
  },
  {
   "cell_type": "markdown",
   "id": "50f0f100-17a8-4cd0-bf8b-8530e0a510c9",
   "metadata": {},
   "source": [
    "# 7. wap ask the user enter radius values\n",
    "# and pi value find the area of the circle\n"
   ]
  },
  {
   "cell_type": "code",
   "execution_count": 50,
   "id": "3aea265c-f25f-4659-b7fc-02370b9514b8",
   "metadata": {},
   "outputs": [
    {
     "name": "stdout",
     "output_type": "stream",
     "text": [
      "the value of pi is 3.141592653589793\n",
      "the random value of radius is 4\n",
      "The area of the circle is : 50.26548245743669\n"
     ]
    }
   ],
   "source": [
    "import random\n",
    "import math\n",
    "radius=random.randint(1,10)\n",
    "pi=math.pi\n",
    "arae_circle=pi*radius*radius\n",
    "print(f\"the value of pi is {pi}\")\n",
    "print(f\"the random value of radius is {radius}\")\n",
    "print(f\"The area of the circle is : {arae_circle}\")\n"
   ]
  },
  {
   "cell_type": "markdown",
   "id": "b565bba6-bc20-43b4-bee8-db81ee5e5a22",
   "metadata": {},
   "source": [
    "# 8. wap ask the user bill amount in dollars,\n",
    "# ask the user enter how much indian\n",
    "# rupees for one dollar print the bill\n",
    "# amount in rupees\n"
   ]
  },
  {
   "cell_type": "code",
   "execution_count": 53,
   "id": "51716e9a-f19b-4992-9da8-41aa050930b5",
   "metadata": {},
   "outputs": [
    {
     "name": "stdout",
     "output_type": "stream",
     "text": [
      "The random value of bill amount in dollars is : 139\n",
      "The random value of one dollar to inr  is : 91\n",
      "The bill amount in rupees is : 12649\n"
     ]
    }
   ],
   "source": [
    "import random\n",
    "bill_amount_dollars=random.randint(100,200)\n",
    "one_dollar_to_inr=random.randint(85,95)\n",
    "bill_amount_rupees=bill_amount_dollars*one_dollar_to_inr\n",
    "print(f\"The random value of bill amount in dollars is : {bill_amount_dollars}\")\n",
    "print(f\"The random value of one dollar to inr  is : {one_dollar_to_inr}\")\n",
    "print(f\"The bill amount in rupees is : {bill_amount_rupees}\")\n"
   ]
  },
  {
   "cell_type": "markdown",
   "id": "c09af702-5970-4d2f-85d2-9ac1b0bf50bf",
   "metadata": {},
   "source": [
    "# 9. wap ask the user enter base height\n",
    "# calculate area of the triangle\n"
   ]
  },
  {
   "cell_type": "code",
   "execution_count": 54,
   "id": "8d1b6657-5b84-4f22-9cf5-38bf95b40ca5",
   "metadata": {},
   "outputs": [
    {
     "name": "stdout",
     "output_type": "stream",
     "text": [
      "The random value of base is: 4\n",
      "The random value of height is: 9\n",
      "The area of the triangle is: 18.0\n"
     ]
    }
   ],
   "source": [
    "import random\n",
    "base=random.randint(1,20)\n",
    "height=random.randint(2,9)\n",
    "area_of_triangle=0.5*base*height\n",
    "print(f\"The random value of base is: {base}\")\n",
    "print(f\"The random value of height is: {height}\")\n",
    "print(f\"The area of the triangle is: {area_of_triangle}\")\n"
   ]
  },
  {
   "cell_type": "markdown",
   "id": "2ccb4976-bb07-42f6-8fb4-45db0a271705",
   "metadata": {},
   "source": [
    "# 10. wap ask the user enter length and\n",
    "# breadth calculate area of the rectangle\n"
   ]
  },
  {
   "cell_type": "code",
   "execution_count": 56,
   "id": "7b69f428-7b84-40ed-b6b3-4cfa8714dff4",
   "metadata": {},
   "outputs": [
    {
     "name": "stdout",
     "output_type": "stream",
     "text": [
      "The random value of length is : 2\n",
      "The random value of length is : 12\n",
      "The area of the rectangle is : 24\n"
     ]
    }
   ],
   "source": [
    "import random\n",
    "length=random.randint(1,10)\n",
    "breadth=random.randint(11,20)\n",
    "area_of_rectangle=length*breadth\n",
    "print(f\"The random value of length is : {length}\")\n",
    "print(f\"The random value of length is : {breadth}\")\n",
    "print(f\"The area of the rectangle is : {area_of_rectangle}\")"
   ]
  },
  {
   "cell_type": "markdown",
   "id": "41d6a70a-e323-4572-9c81-f23245c9e3d0",
   "metadata": {},
   "source": [
    "#  11. Let’s create a story between Father\n",
    "# and daughter , You need to create a story\n",
    "# by using print and input keywordsrks and\n",
    "# print it\n",
    "# the print statement using time.sleep"
   ]
  },
  {
   "cell_type": "code",
   "execution_count": 58,
   "id": "77fe19d8-6728-4ab8-a7c4-ba05277b070f",
   "metadata": {},
   "outputs": [
    {
     "name": "stdout",
     "output_type": "stream",
     "text": [
      "Daughter: Hello dady\n",
      "Father: I heard your exams are over, what about result\n",
      "Daughter: Yes dad! Results are out.\n",
      "Father: what is the percentage?\n",
      "Daughter: I will give my subject wise marks , you tell me the percentage\n",
      "Father : Okay!\n"
     ]
    },
    {
     "name": "stdin",
     "output_type": "stream",
     "text": [
      "First Language: 95\n",
      "Second Language: 95\n",
      "Third Language: 95\n",
      "Science: 95\n",
      "Maths: 95\n"
     ]
    },
    {
     "name": "stdout",
     "output_type": "stream",
     "text": [
      "Daughter: Dad Now tell me how much percentage I got\n",
      "Father: Tell me the max marks of each subject\n"
     ]
    },
    {
     "name": "stdin",
     "output_type": "stream",
     "text": [
      "Daughter:  100\n"
     ]
    },
    {
     "name": "stdout",
     "output_type": "stream",
     "text": [
      "The percentage of marks is : 95.0\n"
     ]
    }
   ],
   "source": [
    "import time\n",
    "print(\"Daughter: Hello dady\")\n",
    "time.sleep(2)\n",
    "print(\"Father: I heard your exams are over, what about result\")\n",
    "time.sleep(2)\n",
    "print(\"Daughter: Yes dad! Results are out.\")\n",
    "time.sleep(2)\n",
    "print(\"Father: what is the percentage?\")\n",
    "time.sleep(2)\n",
    "print(\"Daughter: I will give my subject wise marks , you tell me the percentage\")\n",
    "time.sleep(2)\n",
    "print(\"Father : Okay!\")\n",
    "time.sleep(2)\n",
    "sub1=eval(input(\"First Language:\"))\n",
    "sub2=eval(input(\"Second Language:\"))\n",
    "sub3=eval(input(\"Third Language:\"))\n",
    "sub4=eval(input(\"Science:\"))\n",
    "sub5=eval(input(\"Maths:\"))\n",
    "print(\"Daughter: Dad Now tell me how much percentage I got\")\n",
    "time.sleep(2)\n",
    "print(\"Father: Tell me the max marks of each subject\")\n",
    "time.sleep(2)\n",
    "max_marks=eval(input(\"Daughter: \"))\n",
    "total_marks_obtained=sub1+sub2+sub3+sub4+sub5\n",
    "total_max_marks=5*max_marks\n",
    "percentage_of_marks=(total_marks_obtained/total_max_marks)*100\n",
    "time.sleep(2)\n",
    "print(f\"The percentage of marks is : {percentage_of_marks}\")\n"
   ]
  },
  {
   "cell_type": "code",
   "execution_count": null,
   "id": "6375d33e-ac01-4336-bedd-12d4bb302911",
   "metadata": {},
   "outputs": [],
   "source": []
  }
 ],
 "metadata": {
  "kernelspec": {
   "display_name": "Python 3 (ipykernel)",
   "language": "python",
   "name": "python3"
  },
  "language_info": {
   "codemirror_mode": {
    "name": "ipython",
    "version": 3
   },
   "file_extension": ".py",
   "mimetype": "text/x-python",
   "name": "python",
   "nbconvert_exporter": "python",
   "pygments_lexer": "ipython3",
   "version": "3.11.7"
  }
 },
 "nbformat": 4,
 "nbformat_minor": 5
}
