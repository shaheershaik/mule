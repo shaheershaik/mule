{
 "cells": [
  {
   "cell_type": "markdown",
   "id": "d76704ff-d0b1-4daa-b3b1-0b3450f1a693",
   "metadata": {},
   "source": [
    "# Q- 1 Write a Python function greet(name) that takes a person's name as an argument and prints a\n",
    "# greeting message in the format \"Hello, [name]!\""
   ]
  },
  {
   "cell_type": "code",
   "execution_count": 13,
   "id": "d0084958-2c04-4c57-87ff-d28493625e0f",
   "metadata": {},
   "outputs": [
    {
     "name": "stdout",
     "output_type": "stream",
     "text": [
      "\"Hello,Shaheer!\"\n"
     ]
    }
   ],
   "source": [
    "def greet(name):\n",
    "    print(f'\"Hello,{name}!\"')\n",
    "greet(\"Shaheer\")"
   ]
  },
  {
   "cell_type": "markdown",
   "id": "eb38f7d4-533b-4b19-950c-da3b075264b4",
   "metadata": {},
   "source": [
    "# Q- 2 Write a Python function square(number) that takes an integer as an argument and returns the\n",
    "# square of that number.\n"
   ]
  },
  {
   "cell_type": "code",
   "execution_count": 29,
   "id": "36c215d2-5bd3-4119-8068-00d27677a3da",
   "metadata": {},
   "outputs": [
    {
     "name": "stdout",
     "output_type": "stream",
     "text": [
      "The square of the number is 25\n"
     ]
    }
   ],
   "source": [
    "def square(number):\n",
    "    sqr=number*number\n",
    "    return sqr\n",
    "result=square(5)\n",
    "print(f\"The square of the number is {result}\")"
   ]
  },
  {
   "cell_type": "markdown",
   "id": "403f74a8-6fa1-4d06-ad89-09096dd57c7b",
   "metadata": {},
   "source": [
    "# Q-3 Write a Python function fahrenheit_to_celsius(fahrenheit) that takes a temperature in\n",
    "# Fahrenheit as an argument and returns the equivalent temperature in Celsius. The formula to convert\n",
    "# Fahrenheit to Celsius is: Celsius=(Fahrenheit−32)∗5/9Celsius = (Fahrenheit - 32) *\n",
    "# 5/9Celsius=(Fahrenheit−32)∗5/9\n"
   ]
  },
  {
   "cell_type": "code",
   "execution_count": 33,
   "id": "90a0ff9d-ab5f-4b30-8226-3ea6bc386525",
   "metadata": {},
   "outputs": [
    {
     "name": "stdout",
     "output_type": "stream",
     "text": [
      "37.77777777777778\n"
     ]
    }
   ],
   "source": [
    "def fahrenheit_to_celsius(fahrenheit):\n",
    "    celsius = (fahrenheit - 32) * 5/9\n",
    "    return celsius\n",
    "temperature_fahrenheit = 100\n",
    "temperature_celsius = fahrenheit_to_celsius(temperature_fahrenheit)\n",
    "print(temperature_celsius)\n"
   ]
  },
  {
   "cell_type": "markdown",
   "id": "ab34f79a-ad13-4176-86e1-e1ef0de32f67",
   "metadata": {},
   "source": [
    "# Q-4 Write a Python script that takes an integer input from the user and prints \"Positive\" if the number is\n",
    "# greater than zero, \"Negative\" if the number is less than zero, and \"Zero\" if the number is exactly zero.\n"
   ]
  },
  {
   "cell_type": "code",
   "execution_count": 36,
   "id": "edffdaab-bf69-429b-9aaa-5ac9b48504c8",
   "metadata": {},
   "outputs": [
    {
     "name": "stdin",
     "output_type": "stream",
     "text": [
      "Enter a number: 0\n"
     ]
    },
    {
     "name": "stdout",
     "output_type": "stream",
     "text": [
      "Zero\n"
     ]
    }
   ],
   "source": [
    "num=eval(input(\"Enter a number:\"))\n",
    "if num > 0:\n",
    "    print(\"Positive\")\n",
    "elif num < 0:\n",
    "    print(\"Negative\")\n",
    "else:\n",
    "    print(\"Zero\")"
   ]
  },
  {
   "cell_type": "markdown",
   "id": "2c04c3f8-d509-430a-bb27-1a110ca8b489",
   "metadata": {},
   "source": [
    "# Q-5 Write a Python script that takes a year as input from the user and prints \"Leap Year\" if the year is a\n",
    "# leap year, and \"Not a Leap Year\" otherwise. (A year is a leap year if it is divisible by 4 but not by 100,\n",
    "# unless it is also divisible by 400.)"
   ]
  },
  {
   "cell_type": "code",
   "execution_count": 51,
   "id": "6afc7cbd-d1a7-446c-ace2-70abc007d6e4",
   "metadata": {},
   "outputs": [
    {
     "name": "stdin",
     "output_type": "stream",
     "text": [
      "enter a year: 2024\n"
     ]
    },
    {
     "name": "stdout",
     "output_type": "stream",
     "text": [
      "Leap Year\n"
     ]
    }
   ],
   "source": [
    "year=eval(input(\"enter a year:\"))\n",
    "if (year % 4 == 0 and year % 100 != 0) or (year % 400 == 0):\n",
    "    print(\"Leap Year\")\n",
    "else:\n",
    "    print(\"Not a Leap Year\")"
   ]
  },
  {
   "cell_type": "code",
   "execution_count": null,
   "id": "c2249277-46a3-45d0-a393-68eaf22b2a6a",
   "metadata": {},
   "outputs": [],
   "source": []
  }
 ],
 "metadata": {
  "kernelspec": {
   "display_name": "Python 3 (ipykernel)",
   "language": "python",
   "name": "python3"
  },
  "language_info": {
   "codemirror_mode": {
    "name": "ipython",
    "version": 3
   },
   "file_extension": ".py",
   "mimetype": "text/x-python",
   "name": "python",
   "nbconvert_exporter": "python",
   "pygments_lexer": "ipython3",
   "version": "3.11.7"
  }
 },
 "nbformat": 4,
 "nbformat_minor": 5
}
